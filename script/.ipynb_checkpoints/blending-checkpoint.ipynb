{
 "cells": [
  {
   "cell_type": "code",
   "execution_count": null,
   "metadata": {
    "collapsed": true
   },
   "outputs": [],
   "source": [
    "from PIL import Image\n",
    "\n",
    "# Function to change the image size\n",
    "def changeImageSize(maxWidth, \n",
    "                    maxHeight, \n",
    "                    image):\n",
    "    \n",
    "    widthRatio  = maxWidth/image.size[0]\n",
    "    heightRatio = maxHeight/image.size[1]\n",
    "\n",
    "    newWidth    = int(widthRatio*image.size[0])\n",
    "    newHeight   = int(heightRatio*image.size[1])\n",
    "\n",
    "    newImage    = image.resize((newWidth, newHeight))\n",
    "    return newImage\n",
    "    \n",
    "# Take two images for blending them together   \n",
    "image1 = Image.open(\"./sky1.png\")\n",
    "image2 = Image.open(\"./spaceship1.png\")\n",
    "\n",
    "# Make the images of uniform size\n",
    "image3 = changeImageSize(800, 500, image1)\n",
    "image4 = changeImageSize(800, 500, image2)\n",
    "\n",
    "# Make sure images got an alpha channel\n",
    "image5 = image3.convert(\"RGBA\")\n",
    "image6 = image4.convert(\"RGBA\")\n",
    "\n",
    "# Display the images\n",
    "image5.show()\n",
    "image6.show()\n",
    "\n",
    "# alpha-blend the images with varying values of alpha\n",
    "alphaBlended1 = Image.blend(image5, image6, alpha=.2)\n",
    "alphaBlended2 = Image.blend(image5, image6, alpha=.4)\n",
    "\n",
    "# Display the alpha-blended images\n",
    "alphaBlended1.show()\n",
    "alphaBlended2.show()"
   ]
  },
  {
   "cell_type": "markdown",
   "metadata": {},
   "source": [
    "https://pythontic.com/image-processing/pillow/blend"
   ]
  }
 ],
 "metadata": {
  "kernelspec": {
   "display_name": "Python 3",
   "language": "python",
   "name": "python3"
  },
  "language_info": {
   "codemirror_mode": {
    "name": "ipython",
    "version": 3
   },
   "file_extension": ".py",
   "mimetype": "text/x-python",
   "name": "python",
   "nbconvert_exporter": "python",
   "pygments_lexer": "ipython3",
   "version": "3.6.2"
  }
 },
 "nbformat": 4,
 "nbformat_minor": 2
}
