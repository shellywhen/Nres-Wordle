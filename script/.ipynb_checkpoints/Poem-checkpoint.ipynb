{
 "cells": [
  {
   "cell_type": "code",
   "execution_count": 1,
   "metadata": {
    "collapsed": true
   },
   "outputs": [],
   "source": [
    "import re\n",
    "import json\n",
    "import pandas as pd\n",
    "import pickle\n",
    "import jieba\n",
    "from collections import defaultdict"
   ]
  },
  {
   "cell_type": "code",
   "execution_count": 44,
   "metadata": {
    "collapsed": true
   },
   "outputs": [],
   "source": [
    "with open('tang.pkl', 'rb') as f:\n",
    "    df = pickle.load(, f)\n",
    "with open('poet_meta.pkl', 'wb') as f:\n",
    "    author_meta = pickle.load(f)"
   ]
  },
  {
   "cell_type": "code",
   "execution_count": 111,
   "metadata": {},
   "outputs": [],
   "source": [
    "def process(s):\n",
    "    sentence = s.replace('。', '').replace('，', '')\n",
    "    return ' '.join(jieba.cut(sentence, HMM=False))\n",
    "df['raw'] = df['poem'].apply(lambda s: process(s))\n",
    "df['count'] = df['author'].apply(lambda a: author_meta[a])"
   ]
  },
  {
   "cell_type": "code",
   "execution_count": 117,
   "metadata": {},
   "outputs": [
    {
     "data": {
      "text/plain": [
       "array([['帝京篇十首', '李世民',\n",
       "        '秦川雄帝宅，函谷壮皇居。绮殿千寻起，离宫百雉馀。连薨遥接汉，飞观迥凌虚。云日隐层阙，风烟出绮疏。岩廊罢机务，崇文聊驻辇。玉匣启龙图，金绳披凤篆。韦编断仍续，缥帙舒还卷。对此乃淹留，欹案观坟典。移步出词林，停舆欣武宴。雕弓写明月，骏马疑流电。惊雁落虚弦，啼猿悲急箭。阅赏诚多美，于兹乃忘倦。鸣笳临乐馆，眺听欢芳节。急管韵朱弦，清歌凝白雪。彩凤肃来仪，玄鹤纷成列。去兹郑卫声，雅音方可悦。芳辰追逸趣，禁苑信多奇。桥形通汉上，峰势接云危。烟霞交隐映，花鸟自参差。何如肆辙迹，万里赏瑶池。飞盖去芳园，兰桡游翠渚。萍间日彩乱，荷处香风举。桂楫满中川，弦歌振长屿。岂必汾河曲，方为欢宴所。落日双阙昏，回舆九重暮。长烟散初碧，皎月澄轻素。搴幌玩琴书，开轩引云雾。斜汉耿层阁，清风摇玉树。欢乐难再逢，芳辰良可惜。玉酒泛云罍，兰殽陈绮席。千钟合尧禹，百兽谐金石。得志重寸阴，忘怀轻尺璧。建章欢赏夕，二八尽妖妍。罗绮昭阳殿，芬芳玳瑁筵。佩移星正动，扇掩月初圆。无劳上悬圃，即此对神仙。以兹游观极，悠然独长想。披卷览前踪，抚躬寻既往。望古茅茨约，瞻今兰殿广。人道恶高危，虚心戒盈荡。奉天竭诚敬，临民思惠养。纳善察忠谏，明科慎刑赏。六五诚难继，四三非易仰。广待淳化敷，方嗣云亭响。',\n",
       "        89,\n",
       "        '秦川 雄 帝 宅 函 谷 壮 皇 居 绮 殿 千 寻 起 离宫 百 雉 馀 连 薨 遥 接 汉 飞 观 迥 凌 虚云 日 隐 层 阙 风烟 出 绮 疏 岩 廊 罢 机务 崇文 聊 驻 辇 玉 匣 启 龙 图 金 绳 披 凤 篆 韦 编 断 仍 续 缥 帙 舒 还 卷 对此 乃 淹留 欹 案 观 坟典 移步 出 词 林 停 舆 欣 武 宴 雕弓 写明 月 骏马 疑 流电 惊 雁 落 虚 弦 啼猿 悲 急 箭 阅 赏 诚 多 美 于 兹 乃 忘 倦 鸣 笳 临 乐 馆 眺 听 欢 芳 节 急 管 韵 朱 弦 清歌 凝 白雪 彩 凤 肃 来 仪 玄 鹤 纷 成 列 去 兹 郑 卫 声 雅音 方可 悦 芳辰 追 逸趣 禁 苑 信 多 奇 桥形 通 汉 上峰 势 接 云 危 烟霞 交 隐映 花鸟 自 参差 何如 肆 辙 迹 万里 赏 瑶池 飞 盖 去 芳 园 兰 桡 游 翠 渚 萍 间 日 彩 乱 荷 处 香风 举 桂 楫 满 中川 弦歌 振 长 屿 岂 必 汾河 曲 方 为 欢宴 所 落日 双 阙 昏 回 舆 九重 暮 长 烟 散 初 碧 皎 月 澄 轻 素 搴 幌 玩 琴书 开 轩 引 云雾 斜 汉 耿 层 阁 清风 摇 玉树 欢乐 难 再 逢 芳辰 良 可惜 玉 酒 泛 云 罍 兰 殽 陈 绮 席 千 钟 合 尧 禹 百兽 谐 金石 得志 重 寸阴 忘怀 轻 尺 璧 建章 欢 赏 夕 二八 尽 妖 妍 罗绮 昭阳 殿 芬芳 玳瑁 筵 佩 移 星 正 动 扇 掩 月初 圆 无 劳 上 悬 圃 即 此 对 神仙 以 兹 游 观 极 悠然 独 长 想 披卷 览 前 踪 抚 躬 寻 既往 望 古 茅 茨 约 瞻 今 兰 殿 广 人 道 恶 高 危 虚心 戒 盈 荡 奉天 竭诚 敬 临 民 思 惠 养 纳 善 察 忠 谏 明 科 慎 刑 赏 六五 诚 难 继 四 三 非 易 仰 广 待 淳化 敷 方 嗣 云 亭 响'],\n",
       "       ['饮马长城窟行', '李世民',\n",
       "        '塞外悲风切，交河冰已结。瀚海百重波，阴山千里雪。迥戍危烽火，层峦引高节。悠悠卷旆旌，饮马出长城。寒沙连骑迹，朔吹断边声。胡尘清玉塞，羌笛韵金钲。绝漠干戈戢，车徒振原隰。都尉反龙堆，将军旋马邑。扬麾氛雾静，纪石功名立。荒裔一戎衣，灵台凯歌入。',\n",
       "        89,\n",
       "        '塞外 悲风 切 交河 冰 已 结 瀚海 百重 波 阴山 千里 雪 迥 戍 危 烽火 层峦 引 高 节 悠悠 卷 旆 旌 饮马 出 长城 寒 沙 连 骑 迹 朔 吹 断 边 声 胡 尘 清 玉 塞 羌笛 韵 金 钲 绝 漠 干戈 戢 车 徒 振 原 隰 都尉 反 龙 堆 将军 旋 马 邑 扬 麾 氛雾 静 纪 石 功名 立 荒 裔 一 戎衣 灵台 凯歌 入'],\n",
       "       ['执契静三边', '李世民',\n",
       "        '执契静三边，持衡临万姓。玉彩辉关烛，金华流日镜。无为宇宙清，有美璇玑正。皎佩星连景，飘衣云结庆。戢武耀七德，升文辉九功。烟波澄旧碧，尘火息前红。霜野韬莲剑，关城罢月弓。钱缀榆天合，新城柳塞空。花销葱岭雪，縠尽流沙雾。秋驾转兢怀，春冰弥轸虑。书绝龙庭羽，烽休凤穴戍。衣宵寝二难，食旰餐三惧。翦暴兴先废，除凶存昔亡。圆盖归天壤，方舆入地荒。孔海池京邑，双河沼帝乡。循躬思励己，抚俗愧时康。元首伫盐梅，股肱惟辅弼。羽贤崆岭四，翼圣襄城七。浇俗庶反淳，替文聊就质。已知隆至道，共欢区宇一。',\n",
       "        89,\n",
       "        '执 契 静 三边 持衡 临 万 姓 玉 彩 辉 关 烛 金华 流 日 镜 无为 宇宙 清 有 美 璇玑 正 皎 佩 星 连 景 飘 衣 云 结 庆 戢 武 耀 七 德 升 文 辉 九 功 烟波 澄 旧 碧 尘 火 息 前 红 霜 野 韬 莲 剑 关城 罢 月 弓 钱 缀 榆 天 合 新城 柳 塞 空 花销 葱岭 雪 縠 尽 流沙 雾 秋 驾 转 兢 怀春 冰 弥 轸 虑 书 绝 龙庭 羽 烽 休 凤 穴 戍 衣 宵 寝 二难 食 旰 餐 三 惧 翦 暴 兴 先 废除 凶 存 昔 亡 圆盖 归 天壤 方舆 入 地 荒 孔 海 池 京 邑 双河 沼 帝 乡 循 躬 思 励 己 抚 俗 愧 时 康 元首 伫 盐 梅 股肱 惟 辅弼 羽 贤 崆 岭 四 翼 圣 襄城 七 浇 俗 庶 反 淳 替 文 聊 就 质 已知 隆 至 道 共 欢 区宇 一'],\n",
       "       ...,\n",
       "       ['檄', '李峤', '羽檄本宣明，由来敷木声。联翩通汉国，迢递入燕营。毛义持书去，张仪韫璧行。曹风虽觉愈，陈草始知名。',\n",
       "        213,\n",
       "        '羽 檄 本 宣明 由 来 敷 木 声 联翩 通 汉 国 迢 递 入 燕 营 毛义 持 书 去 张仪 韫 璧 行 曹 风 虽 觉 愈 陈 草 始 知名'],\n",
       "       ['戈', '李峤', '富父舂喉日，殷辛漂杵年。晓霜含白刃，落影驻雕鋋。夕摈金门侧，朝提玉塞前。愿随龙影度，横阵彗云边。',\n",
       "        213,\n",
       "        '富 父 舂 喉 日 殷 辛 漂 杵 年 晓 霜 含 白刃 落 影 驻 雕 鋋 夕 摈 金门 侧 朝 提 玉 塞 前 愿 随 龙 影 度 横 阵 彗 云 边'],\n",
       "       ['箫', '李峤', '虞舜调清管，王褒赋雅音。参差横凤翼，搜索动猿吟。灵鹤时来到，仙人幸见寻。为听杨柳曲，行役几伤心。',\n",
       "        213,\n",
       "        '虞舜 调 清 管 王 褒 赋 雅音 参差 横 凤 翼 搜索 动 猿 吟 灵 鹤 时 来到 仙人 幸 见 寻 为 听 杨柳 曲 行 役 几 伤心']],\n",
       "      dtype=object)"
      ]
     },
     "execution_count": 117,
     "metadata": {},
     "output_type": "execute_result"
    }
   ],
   "source": [
    "paragraph = []\n",
    "for v in df.values:\n",
    "    "
   ]
  },
  {
   "cell_type": "code",
   "execution_count": 114,
   "metadata": {},
   "outputs": [],
   "source": []
  },
  {
   "cell_type": "code",
   "execution_count": null,
   "metadata": {
    "collapsed": true
   },
   "outputs": [],
   "source": []
  },
  {
   "cell_type": "code",
   "execution_count": 55,
   "metadata": {},
   "outputs": [],
   "source": [
    "def getOrganizedDataFromTXT():\n",
    "    poems = []\n",
    "    with open ('./data/全唐诗.txt', 'r',encoding='utf-8') as f:\n",
    "        lines = f.readlines()\n",
    "        poem = \"\"\n",
    "        author = \"\"\n",
    "        title = \"\"\n",
    "        for lid, line in enumerate(lines):\n",
    "            if line=='\\n' or line == ' \\n' or line == ' \\u3000\\n' or line == ' \\u3000 \\n':\n",
    "                continue\n",
    "            if line[0]==' ': # find title\n",
    "                authorList = re.findall(r'】\\S*', line)\n",
    "                titleList = re.findall(r'【\\S*】', line)\n",
    "                if len(authorList)==0 or len(titleList)==0:\n",
    "                    continue\n",
    "                poems.append({\n",
    "                    'title': title,\n",
    "                    'author': author,\n",
    "                    'poem': poem\n",
    "                })\n",
    "                author = authorList[0].replace('】', '')\n",
    "                title = titleList[0].replace('】', '').replace('【', '')       \n",
    "                poem = \"\"\n",
    "                continue\n",
    "            poem += line.replace('\\n', '')    \n",
    "        poems.pop(0)\n",
    "    df = pd.DataFrame(poems)\n",
    "    return df\n",
    "df = getOrganizedDataFromTXT()"
   ]
  },
  {
   "cell_type": "code",
   "execution_count": 49,
   "metadata": {
    "collapsed": true
   },
   "outputs": [
    {
     "data": {
      "text/plain": [
       "{'author': '李峤',\n",
       " 'poem': '富父舂喉日，殷辛漂杵年。晓霜含白刃，落影驻雕鋋。夕摈金门侧，朝提玉塞前。愿随龙影度，横阵彗云边。',\n",
       " 'title': '戈'}"
      ]
     },
     "execution_count": 49,
     "metadata": {},
     "output_type": "execute_result"
    }
   ],
   "source": [
    "def getMetaData(df):\n",
    "    df['count'] = 1\n",
    "    authors = df[['author','count' ]].groupby('author').count().sort_values('count', ascending=False)\n",
    "    author_dicts = authors.to_dict()\n",
    "    author_meta = author_dicts['count']\n",
    "    author_meta[''] = 1\n",
    "    return author_meta\n",
    "author_meta = getMetaData(df)"
   ]
  },
  {
   "cell_type": "code",
   "execution_count": 100,
   "metadata": {},
   "outputs": [
    {
     "data": {
      "text/plain": [
       "{'author': '李世民',\n",
       " 'poem': '秦川雄帝宅，函谷壮皇居。绮殿千寻起，离宫百雉馀。连薨遥接汉，飞观迥凌虚。云日隐层阙，风烟出绮疏。岩廊罢机务，崇文聊驻辇。玉匣启龙图，金绳披凤篆。韦编断仍续，缥帙舒还卷。对此乃淹留，欹案观坟典。移步出词林，停舆欣武宴。雕弓写明月，骏马疑流电。惊雁落虚弦，啼猿悲急箭。阅赏诚多美，于兹乃忘倦。鸣笳临乐馆，眺听欢芳节。急管韵朱弦，清歌凝白雪。彩凤肃来仪，玄鹤纷成列。去兹郑卫声，雅音方可悦。芳辰追逸趣，禁苑信多奇。桥形通汉上，峰势接云危。烟霞交隐映，花鸟自参差。何如肆辙迹，万里赏瑶池。飞盖去芳园，兰桡游翠渚。萍间日彩乱，荷处香风举。桂楫满中川，弦歌振长屿。岂必汾河曲，方为欢宴所。落日双阙昏，回舆九重暮。长烟散初碧，皎月澄轻素。搴幌玩琴书，开轩引云雾。斜汉耿层阁，清风摇玉树。欢乐难再逢，芳辰良可惜。玉酒泛云罍，兰殽陈绮席。千钟合尧禹，百兽谐金石。得志重寸阴，忘怀轻尺璧。建章欢赏夕，二八尽妖妍。罗绮昭阳殿，芬芳玳瑁筵。佩移星正动，扇掩月初圆。无劳上悬圃，即此对神仙。以兹游观极，悠然独长想。披卷览前踪，抚躬寻既往。望古茅茨约，瞻今兰殿广。人道恶高危，虚心戒盈荡。奉天竭诚敬，临民思惠养。纳善察忠谏，明科慎刑赏。六五诚难继，四三非易仰。广待淳化敷，方嗣云亭响。',\n",
       " 'title': '帝京篇十首'}"
      ]
     },
     "execution_count": 100,
     "metadata": {},
     "output_type": "execute_result"
    }
   ],
   "source": [
    "poems[0]"
   ]
  },
  {
   "cell_type": "code",
   "execution_count": 118,
   "metadata": {},
   "outputs": [
    {
     "data": {
      "text/plain": [
       "[1, 2, 3, 2, 4]"
      ]
     },
     "execution_count": 118,
     "metadata": {},
     "output_type": "execute_result"
    }
   ],
   "source": [
    "[1,2,3]+[2, 4]"
   ]
  },
  {
   "cell_type": "code",
   "execution_count": 99,
   "metadata": {},
   "outputs": [],
   "source": [
    "import jieba"
   ]
  },
  {
   "cell_type": "code",
   "execution_count": 104,
   "metadata": {},
   "outputs": [
    {
     "data": {
      "text/plain": [
       "'桂 殿 与 山 连 兰 汤 涌 自然 阴 崖 含 秀色 温 谷 吐 潺 湲 绩 为 蠲 邪 著 功 因 养 正 宣 愿 言 将 亿兆 同 此 共 昌 延'"
      ]
     },
     "execution_count": 104,
     "metadata": {},
     "output_type": "execute_result"
    }
   ],
   "source": [
    "sentence = poems[120]['poem'].replace('。', '').replace('，', '')\n",
    "seperated = ' '.join(jieba.cut(sentence, HMM=False))\n",
    "seperated"
   ]
  },
  {
   "cell_type": "code",
   "execution_count": 105,
   "metadata": {},
   "outputs": [
    {
     "data": {
      "text/plain": [
       "'桂殿 与 山连兰 汤 涌 自然 阴崖 含 秀色 温谷 吐潺 湲 绩为 蠲 邪 著功 因养 正 宣愿言 将 亿兆 同此 共昌延'"
      ]
     },
     "execution_count": 105,
     "metadata": {},
     "output_type": "execute_result"
    }
   ],
   "source": [
    "' '.join(jieba.cut(sentence, HMM=True))"
   ]
  },
  {
   "cell_type": "code",
   "execution_count": null,
   "metadata": {
    "collapsed": true
   },
   "outputs": [],
   "source": []
  }
 ],
 "metadata": {
  "kernelspec": {
   "display_name": "Python 3",
   "language": "python",
   "name": "python3"
  },
  "language_info": {
   "codemirror_mode": {
    "name": "ipython",
    "version": 3
   },
   "file_extension": ".py",
   "mimetype": "text/x-python",
   "name": "python",
   "nbconvert_exporter": "python",
   "pygments_lexer": "ipython3",
   "version": "3.6.2"
  }
 },
 "nbformat": 4,
 "nbformat_minor": 2
}
